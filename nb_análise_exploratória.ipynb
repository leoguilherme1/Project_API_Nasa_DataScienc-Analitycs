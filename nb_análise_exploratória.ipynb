{
  "cells": [
    {
      "cell_type": "markdown",
      "metadata": {
        "id": "view-in-github",
        "colab_type": "text"
      },
      "source": [
        "<a href=\"https://colab.research.google.com/github/leoguilherme1/analise_dados_API_Nasa/blob/main/nb_an%C3%A1lise_explorat%C3%B3ria.ipynb\" target=\"_parent\"><img src=\"https://colab.research.google.com/assets/colab-badge.svg\" alt=\"Open In Colab\"/></a>"
      ]
    },
    {
      "cell_type": "markdown",
      "metadata": {
        "application/vnd.databricks.v1+cell": {
          "cellMetadata": {
            "byteLimit": 2048000,
            "rowLimit": 10000
          },
          "inputWidgets": {},
          "nuid": "2afb62c6-3ad4-4fb5-a9e2-e5e880c34e0d",
          "showTitle": false,
          "tableResultSettingsMap": {},
          "title": ""
        },
        "id": "68xvoRpGb8EB"
      },
      "source": [
        "# Análise Estatística\n",
        "****"
      ]
    },
    {
      "cell_type": "markdown",
      "metadata": {
        "application/vnd.databricks.v1+cell": {
          "cellMetadata": {
            "byteLimit": 2048000,
            "rowLimit": 10000
          },
          "inputWidgets": {},
          "nuid": "436483de-5e97-4564-a651-7bec651477fd",
          "showTitle": false,
          "tableResultSettingsMap": {},
          "title": ""
        },
        "id": "F8fxVHcrb8ED"
      },
      "source": [
        "Nesse momento será feita uma analise inicial com base em estatísticas descritivas."
      ]
    },
    {
      "cell_type": "code",
      "execution_count": null,
      "metadata": {
        "application/vnd.databricks.v1+cell": {
          "cellMetadata": {
            "byteLimit": 2048000,
            "rowLimit": 10000
          },
          "inputWidgets": {},
          "nuid": "b260422e-6756-4be3-a16d-f57b4159cc77",
          "showTitle": false,
          "tableResultSettingsMap": {},
          "title": ""
        },
        "id": "4jolp_CBb8EE"
      },
      "outputs": [],
      "source": [
        "df.describe().round(2)"
      ]
    },
    {
      "cell_type": "markdown",
      "metadata": {
        "application/vnd.databricks.v1+cell": {
          "cellMetadata": {
            "byteLimit": 2048000,
            "rowLimit": 10000
          },
          "inputWidgets": {},
          "nuid": "a8d5460d-3e75-4afb-87d2-1e5b6ec0e8eb",
          "showTitle": false,
          "tableResultSettingsMap": {},
          "title": ""
        },
        "id": "ZdMXuYmGb8EE"
      },
      "source": [
        "Foi observado uma disparidade entre o terceiro quartil (75%) com a máxima de 'Distância_Max' e 'Velocidade_rltv', são diferenças de valores que merecem uma análise mais detalhada.\n",
        "\n",
        "Para isso será apresentado um histograma de cada um."
      ]
    },
    {
      "cell_type": "markdown",
      "metadata": {
        "application/vnd.databricks.v1+cell": {
          "cellMetadata": {
            "byteLimit": 2048000,
            "rowLimit": 10000
          },
          "inputWidgets": {},
          "nuid": "651a6141-e0b0-4fc1-9ff9-f6017bc4a8b0",
          "showTitle": false,
          "tableResultSettingsMap": {},
          "title": ""
        },
        "id": "E7M6keJBb8EF"
      },
      "source": [
        "## Análise - 'Distância_Max'"
      ]
    },
    {
      "cell_type": "code",
      "execution_count": null,
      "metadata": {
        "application/vnd.databricks.v1+cell": {
          "cellMetadata": {
            "byteLimit": 2048000,
            "rowLimit": 10000
          },
          "inputWidgets": {},
          "nuid": "13ccb0c2-0d48-44bf-bcf0-acb6d8ea5469",
          "showTitle": false,
          "tableResultSettingsMap": {},
          "title": ""
        },
        "id": "Wmyqox5Kb8EF"
      },
      "outputs": [],
      "source": [
        "import plotly.graph_objects as go\n",
        "import plotly.express as px\n",
        "from plotly.subplots import make_subplots"
      ]
    },
    {
      "cell_type": "code",
      "execution_count": null,
      "metadata": {
        "application/vnd.databricks.v1+cell": {
          "cellMetadata": {
            "byteLimit": 2048000,
            "rowLimit": 10000
          },
          "inputWidgets": {},
          "nuid": "952ecdc2-68b0-4d83-bafd-d4305908b085",
          "showTitle": false,
          "tableResultSettingsMap": {},
          "title": ""
        },
        "id": "Xehd0afAb8EG"
      },
      "outputs": [],
      "source": [
        "data_melted = df[['Distancia',\t'Distância_Min','Distância_Max']].melt(var_name=\"Categoria\", value_name=\"Valor\")\n"
      ]
    },
    {
      "cell_type": "code",
      "execution_count": null,
      "metadata": {
        "application/vnd.databricks.v1+cell": {
          "cellMetadata": {
            "byteLimit": 2048000,
            "rowLimit": 10000
          },
          "inputWidgets": {},
          "nuid": "8523d3a9-91f3-4fad-84c5-9e31dc58f143",
          "showTitle": false,
          "tableResultSettingsMap": {},
          "title": ""
        },
        "id": "4YX1INEIb8EG"
      },
      "outputs": [],
      "source": [
        "fig = px.violin(\n",
        "    data_melted,\n",
        "    x=\"Valor\",\n",
        "    y=\"Categoria\",\n",
        "    orientation=\"h\",\n",
        "    box=True,\n",
        "    points=\"all\",\n",
        "    color=\"Categoria\",\n",
        "    color_discrete_sequence=[\"#636EFA\", \"#EF553B\", \"#00CC96\"]\n",
        ")\n",
        "\n",
        "fig.update_layout(\n",
        "    title=\"Violin Plot para Distancia, Distância_Min, and Distância_Max\",\n",
        "    xaxis_title=\"Valor\",\n",
        "    yaxis_title=\"Categoria\",\n",
        "    width=900,\n",
        "    height=400,\n",
        "    template=\"plotly_white\"\n",
        ")\n",
        "\n",
        "fig.show()\n"
      ]
    },
    {
      "cell_type": "markdown",
      "metadata": {
        "application/vnd.databricks.v1+cell": {
          "cellMetadata": {
            "byteLimit": 2048000,
            "rowLimit": 10000
          },
          "inputWidgets": {},
          "nuid": "0ed21f8f-f5b9-4f10-80c3-de41692c20e8",
          "showTitle": false,
          "tableResultSettingsMap": {},
          "title": ""
        },
        "id": "9jA7ZN_eb8EH"
      },
      "source": [
        "\n",
        "Acima está um gráfico de violino, onde  mostra a distribuição dos dados e sua densidade. Nele é possível enxergar como os valores de \"Distância_Max\" fogem do padrão em relação aos outros valores de distância, necessitando de uma análise mais detalhada dessa variável."
      ]
    },
    {
      "cell_type": "code",
      "execution_count": null,
      "metadata": {
        "application/vnd.databricks.v1+cell": {
          "cellMetadata": {
            "byteLimit": 2048000,
            "rowLimit": 10000
          },
          "inputWidgets": {},
          "nuid": "0aaddb57-0a65-4208-95e2-85937f67504a",
          "showTitle": false,
          "tableResultSettingsMap": {},
          "title": ""
        },
        "id": "u5-kRKD1b8EH"
      },
      "outputs": [],
      "source": [
        "\n",
        "\n",
        "fig = go.Figure(go.Histogram(\n",
        "    x=df['Distância_Max'],\n",
        "    nbinsx=15,\n",
        "    marker=dict(line=dict(width=1, color='black'))\n",
        "))\n",
        "fig.update_layout(\n",
        "    title=\"Histograma da Distância Max\",\n",
        "    xaxis_title=\"Distância Max\",\n",
        "    yaxis_title=\"Frequência\",\n",
        "    width=900,\n",
        "    height=400,\n",
        "    template=\"plotly_white\",\n",
        "    xaxis=dict(showgrid=False),\n",
        "    yaxis=dict(showgrid=False)\n",
        ")\n",
        "\n",
        "fig.show()"
      ]
    },
    {
      "cell_type": "markdown",
      "metadata": {
        "application/vnd.databricks.v1+cell": {
          "cellMetadata": {
            "byteLimit": 2048000,
            "rowLimit": 10000
          },
          "inputWidgets": {},
          "nuid": "5f4f91aa-894f-4c38-bf6f-bc6a22169263",
          "showTitle": false,
          "tableResultSettingsMap": {},
          "title": ""
        },
        "id": "6of6JH0xb8EI"
      },
      "source": [
        "O histograma da coluna \"Distância_Max\" mostra uma distribuição fortemente concentrada nos valores mais baixos, com uma cauda longa que se estende até valores mais altos. Esse tipo de distribuição pode indicar que a maioria dos valores está próxima de zero, mas há alguns valores muito maiores que aumentam a faixa da escala."
      ]
    },
    {
      "cell_type": "markdown",
      "metadata": {
        "application/vnd.databricks.v1+cell": {
          "cellMetadata": {
            "byteLimit": 2048000,
            "rowLimit": 10000
          },
          "inputWidgets": {},
          "nuid": "ccd4549e-52c2-4e14-b664-0033cfb96796",
          "showTitle": false,
          "tableResultSettingsMap": {},
          "title": ""
        },
        "id": "YrovxfTeb8EI"
      },
      "source": [
        "As informações contidas nesse histograma podem ser interpretada em box plot. O Box plot é uma ferramenta gráfica utilizada para representar e ilustrar um conjunto de dados distribuídos em diferentes medidas, que possibilitam diversos tipos de observações em uma única análise, são elas:\n",
        "\n",
        "- Posição central que é dada pela mediana;\n",
        "- Medida de disperção entre o quarto superior e inferior;\n",
        "- Assimetria pela posição relativa dos quartis;\n",
        "- Identificação de outliers e valores atípicos."
      ]
    },
    {
      "cell_type": "code",
      "execution_count": null,
      "metadata": {
        "application/vnd.databricks.v1+cell": {
          "cellMetadata": {
            "byteLimit": 2048000,
            "rowLimit": 10000
          },
          "inputWidgets": {},
          "nuid": "7aa1f447-369d-4275-8851-491b4e0e6de9",
          "showTitle": false,
          "tableResultSettingsMap": {},
          "title": ""
        },
        "id": "d16PLfLTb8EI"
      },
      "outputs": [],
      "source": [
        "q1_Distância_Max=df.Distância_Max.quantile(.25)\n",
        "q3_Distância_Max=df.Distância_Max.quantile(.75)\n",
        "IQR_Distância_Max = q3_Distância_Max-q1_Distância_Max\n",
        "\n",
        "\n",
        "sup_Distância_Max= q3_Distância_Max + 1.5*IQR_Distância_Max\n",
        "inf_Distância_Max= q1_Distância_Max - 1.5*IQR_Distância_Max\n",
        "print('IQR da variável Distância_Max:', IQR_Distância_Max)\n",
        "print('Limite superior:', sup_Distância_Max)\n",
        "print('Limite inferior:', inf_Distância_Max)\n"
      ]
    },
    {
      "cell_type": "markdown",
      "metadata": {
        "application/vnd.databricks.v1+cell": {
          "cellMetadata": {
            "byteLimit": 2048000,
            "rowLimit": 10000
          },
          "inputWidgets": {},
          "nuid": "cb5dc19c-fcb0-4024-98d4-c199f3e93c63",
          "showTitle": false,
          "tableResultSettingsMap": {},
          "title": ""
        },
        "id": "xf5L_e7xb8EI"
      },
      "source": [
        "## Plotando o diagrama - 'Distância_Max'"
      ]
    },
    {
      "cell_type": "code",
      "execution_count": null,
      "metadata": {
        "application/vnd.databricks.v1+cell": {
          "cellMetadata": {
            "byteLimit": 2048000,
            "rowLimit": 10000
          },
          "inputWidgets": {},
          "nuid": "675c5779-6b2f-4a14-9679-f817015440b4",
          "showTitle": false,
          "tableResultSettingsMap": {},
          "title": ""
        },
        "id": "FYtSome6b8EI"
      },
      "outputs": [],
      "source": [
        "fig = px.box(df, x=\"Distância_Max\", title=\"Dataset Original - Distância_Max\", orientation='h')\n",
        "\n",
        "fig.show()\n",
        "\n",
        "print(f'O Dataset possui {df.shape[0]} linhas')\n",
        "print(f'{len(df[df.Distância_Max > sup_Distância_Max])} Entradas acima de {sup_Distância_Max}')\n",
        "print(f'Representam {((len(df[df.Distância_Max > sup_Distância_Max]) / df.shape[0]) * 100):.2f}% do dataset')"
      ]
    },
    {
      "cell_type": "markdown",
      "metadata": {
        "application/vnd.databricks.v1+cell": {
          "cellMetadata": {
            "byteLimit": 2048000,
            "rowLimit": 10000
          },
          "inputWidgets": {},
          "nuid": "8f38142d-c676-4f97-99ec-e7eb7950fbb7",
          "showTitle": false,
          "tableResultSettingsMap": {},
          "title": ""
        },
        "id": "EvhC82ANb8EJ"
      },
      "source": [
        "No caso dessa variável, temos valores fora do limite superior e inferior. Já que trata-se de valores máximos da distância dos asteróides, não seria ideal considerarmos como outiliers mas sim valores exteriores.\n",
        "\n",
        "*Outiliers é dado por um erro de observação ou arredondamento.*\n"
      ]
    },
    {
      "cell_type": "code",
      "execution_count": null,
      "metadata": {
        "application/vnd.databricks.v1+cell": {
          "cellMetadata": {
            "byteLimit": 2048000,
            "rowLimit": 10000
          },
          "inputWidgets": {},
          "nuid": "793d1280-67ef-4248-95fc-f9482e691981",
          "showTitle": false,
          "tableResultSettingsMap": {},
          "title": ""
        },
        "id": "viPDdD8Mb8EJ"
      },
      "outputs": [],
      "source": [
        "entradas_acima_limite_superior = df[df.Distância_Max > sup_Distância_Max]\n",
        "\n",
        "display(entradas_acima_limite_superior)\n"
      ]
    },
    {
      "cell_type": "markdown",
      "metadata": {
        "application/vnd.databricks.v1+cell": {
          "cellMetadata": {
            "byteLimit": 2048000,
            "rowLimit": 10000
          },
          "inputWidgets": {},
          "nuid": "7de6a61c-cda7-4d4d-9bbe-c5fc237cb7a1",
          "showTitle": false,
          "tableResultSettingsMap": {},
          "title": ""
        },
        "id": "VioTWgBxb8EJ"
      },
      "source": [
        "Após pesquisas, podemos concluir que esses valores discrepantes são naturais, visto que esses cometas foram observados em distâncias muito distantes em relação a terra do que outros. Isso pode ser explicado devido à alguns fatores, como:\n",
        "\n",
        "- Características dos asteroides (órbitas elípticas):\n",
        "\n",
        "A órbita de alguns asteroides pode ser altamente excêntrica (alongada), o que significa que em certos momentos de sua órbita, eles podem estar muito mais distantes da Terra do que em outros. Isso resulta em distâncias máximas muito mais altas.\n",
        "\n",
        "\n",
        "Já que se tratam de valores reais não é necessária a limpeza desses dados, pois são importantes para a análise."
      ]
    },
    {
      "cell_type": "markdown",
      "metadata": {
        "application/vnd.databricks.v1+cell": {
          "cellMetadata": {
            "byteLimit": 2048000,
            "rowLimit": 10000
          },
          "inputWidgets": {},
          "nuid": "31147826-759f-4ad1-8a2d-32a87fbdbe7f",
          "showTitle": false,
          "tableResultSettingsMap": {},
          "title": ""
        },
        "id": "5fJ4H0pob8EJ"
      },
      "source": [
        "##Análise - 'Velocidade_rltv'\n"
      ]
    },
    {
      "cell_type": "code",
      "execution_count": null,
      "metadata": {
        "application/vnd.databricks.v1+cell": {
          "cellMetadata": {
            "byteLimit": 2048000,
            "rowLimit": 10000
          },
          "inputWidgets": {},
          "nuid": "e36ddd44-9d67-4ebb-8c23-a2c923825764",
          "showTitle": false,
          "tableResultSettingsMap": {},
          "title": ""
        },
        "id": "n3mjz18Jb8EJ"
      },
      "outputs": [],
      "source": [
        "fig = px.histogram(df, x=\"Velocidade_rltv\", nbins=15, title=\"Histograma da Velocidade Relativa\")\n",
        "\n",
        "fig.update_layout(\n",
        "    xaxis_title=\"Velocidade Relativa\",\n",
        "    yaxis_title=\"Frequência\",\n",
        "    showlegend=False\n",
        ")\n",
        "\n",
        "fig.show()\n"
      ]
    },
    {
      "cell_type": "markdown",
      "metadata": {
        "application/vnd.databricks.v1+cell": {
          "cellMetadata": {
            "byteLimit": 2048000,
            "rowLimit": 10000
          },
          "inputWidgets": {},
          "nuid": "b20ffb13-1b21-431a-aec7-9a5a19f0864f",
          "showTitle": false,
          "tableResultSettingsMap": {},
          "title": ""
        },
        "id": "7U0hofbbb8EK"
      },
      "source": [
        "Pelo Histograma conseguimos visualizar que há valores atípicos em nossos dados. Após o cálculo do IQR e dos limites extremos, vamos plotar nosso box plot."
      ]
    },
    {
      "cell_type": "code",
      "execution_count": null,
      "metadata": {
        "application/vnd.databricks.v1+cell": {
          "cellMetadata": {
            "byteLimit": 2048000,
            "rowLimit": 10000
          },
          "inputWidgets": {},
          "nuid": "0be45570-b171-4c03-8a0f-2e633334fb7b",
          "showTitle": false,
          "tableResultSettingsMap": {},
          "title": ""
        },
        "id": "oBefd9gKb8EK"
      },
      "outputs": [],
      "source": [
        "q1_Velocidade_rltv=df.Velocidade_rltv.quantile(.25)\n",
        "q3_Velocidade_rltv=df.Velocidade_rltv.quantile(.75)\n",
        "IQR_Velocidade_rltv = q3_Velocidade_rltv-q1_Velocidade_rltv\n",
        "\n",
        "\n",
        "sup_Velocidade_rltv= q3_Velocidade_rltv + 1.5*IQR_Velocidade_rltv\n",
        "inf_Velocidade_rltv= q1_Velocidade_rltv - 1.5*IQR_Velocidade_rltv\n",
        "print('IQR da variável Distância_Max:', IQR_Velocidade_rltv)\n",
        "print('Limite superior:', sup_Velocidade_rltv)\n",
        "print('Limite inferior:', inf_Velocidade_rltv)"
      ]
    },
    {
      "cell_type": "code",
      "execution_count": null,
      "metadata": {
        "application/vnd.databricks.v1+cell": {
          "cellMetadata": {
            "byteLimit": 2048000,
            "rowLimit": 10000
          },
          "inputWidgets": {},
          "nuid": "236bc4b3-0aab-47fd-9a72-60ae9809db37",
          "showTitle": false,
          "tableResultSettingsMap": {},
          "title": ""
        },
        "id": "IAr-aq-Eb8EK"
      },
      "outputs": [],
      "source": [
        "fig = px.box(df, x=\"Velocidade_rltv\", title=\"Dataset Original - Velocidade_rltv\", orientation='h')\n",
        "\n",
        "fig.show()\n",
        "\n",
        "print(f'O Dataset possui {df.shape[0]} linhas')\n",
        "print(f'{len(df[df.Velocidade_rltv > sup_Velocidade_rltv])} Entradas acima de {sup_Velocidade_rltv}')\n",
        "print(f'Representam {((len(df[df.Velocidade_rltv > sup_Velocidade_rltv]) / df.shape[0]) * 100):.2f}% do dataset')"
      ]
    },
    {
      "cell_type": "code",
      "execution_count": null,
      "metadata": {
        "application/vnd.databricks.v1+cell": {
          "cellMetadata": {
            "byteLimit": 2048000,
            "rowLimit": 10000
          },
          "inputWidgets": {},
          "nuid": "26e8971f-250a-4ada-8f3d-a266ad8d046a",
          "showTitle": false,
          "tableResultSettingsMap": {},
          "title": ""
        },
        "id": "8hKtGWLZb8EK"
      },
      "outputs": [],
      "source": [
        "df[df.Velocidade_rltv > sup_Velocidade_rltv]['']"
      ]
    },
    {
      "cell_type": "code",
      "execution_count": null,
      "metadata": {
        "application/vnd.databricks.v1+cell": {
          "cellMetadata": {
            "byteLimit": 2048000,
            "rowLimit": 10000
          },
          "inputWidgets": {},
          "nuid": "d402ad9f-c78d-4187-a95b-927bf2d83375",
          "showTitle": false,
          "tableResultSettingsMap": {},
          "title": ""
        },
        "id": "QSDtahSgb8EK"
      },
      "outputs": [],
      "source": [
        "# Filtrar entradas que estão acima do limite superior\n",
        "entradas_acima_limite = df[df.Velocidade_rltv > sup_Velocidade_rltv]\n",
        "\n",
        "display(entradas_acima_limite)"
      ]
    },
    {
      "cell_type": "markdown",
      "metadata": {
        "application/vnd.databricks.v1+cell": {
          "cellMetadata": {},
          "inputWidgets": {},
          "nuid": "d5282a66-40a0-4eee-afc5-77bd7c0c7134",
          "showTitle": false,
          "tableResultSettingsMap": {},
          "title": ""
        },
        "id": "h6BuS31rb8EK"
      },
      "source": [
        "Após análise, também podemos concluir que esses valores discrepantes são naturais, as velocidades dos asteróides que estão acima do padrão podem ser influenciadas por diversos fatores, entre eles:\n",
        "\n",
        "- Influência de planetas;\n",
        "- Pertubações dinâmicas;\n",
        "- Algum evento astrômico recente;\n",
        "- Origem do asteróide.\n",
        "\n",
        "Já que se tratam de valores reais não é necessária a limpeza desses dados, pois também serão importantes para a análise."
      ]
    },
    {
      "cell_type": "markdown",
      "metadata": {
        "application/vnd.databricks.v1+cell": {
          "cellMetadata": {},
          "inputWidgets": {},
          "nuid": "54f1d63c-d03b-41fd-8dfb-1fe6b50744b6",
          "showTitle": false,
          "tableResultSettingsMap": {},
          "title": ""
        },
        "id": "SLlLDvpkb8EK"
      },
      "source": [
        "# Análise Exploratória\n",
        "****"
      ]
    },
    {
      "cell_type": "markdown",
      "metadata": {
        "application/vnd.databricks.v1+cell": {
          "cellMetadata": {},
          "inputWidgets": {},
          "nuid": "a6ffb55b-95f1-4ef6-98cd-e838af4e8ab9",
          "showTitle": false,
          "tableResultSettingsMap": {},
          "title": ""
        },
        "id": "GDlo-k8Ib8EL"
      },
      "source": [
        "## Frequência de aproximações"
      ]
    },
    {
      "cell_type": "markdown",
      "metadata": {
        "application/vnd.databricks.v1+cell": {
          "cellMetadata": {},
          "inputWidgets": {},
          "nuid": "9a8db515-f9da-4975-bb94-2d529d284e44",
          "showTitle": false,
          "tableResultSettingsMap": {},
          "title": ""
        },
        "id": "6qTVCDWeb8EL"
      },
      "source": [
        "Criado um gráfico para visualizar a frequência das aproximações ao longo do tempo. Isso ajuda a identificar a concentração de aproximações em determinados períodos, nesse caso observa-se que após os anos 2000 a quantidade de aproximações aumentou significadamente."
      ]
    },
    {
      "cell_type": "code",
      "execution_count": null,
      "metadata": {
        "application/vnd.databricks.v1+cell": {
          "cellMetadata": {
            "byteLimit": 2048000,
            "rowLimit": 10000
          },
          "inputWidgets": {},
          "nuid": "3e13b82b-1042-462c-9a46-5acbf0b54c77",
          "showTitle": false,
          "tableResultSettingsMap": {},
          "title": ""
        },
        "id": "pn0Q5gGWb8EL"
      },
      "outputs": [],
      "source": [
        "\n",
        "fig = px.histogram(df, x='Hora_Aprox', nbins=30, title='Distribuição Temporal das Aproximações')\n",
        "\n",
        "fig.update_layout(\n",
        "    xaxis_title='Data e Hora',\n",
        "    yaxis_title='Número de Aproximações',\n",
        "    template='plotly'\n",
        ")\n",
        "\n",
        "fig.show()\n"
      ]
    },
    {
      "cell_type": "markdown",
      "metadata": {
        "application/vnd.databricks.v1+cell": {
          "cellMetadata": {},
          "inputWidgets": {},
          "nuid": "8f425f21-4e8d-4686-9235-1b8cfec44ffd",
          "showTitle": false,
          "tableResultSettingsMap": {},
          "title": ""
        },
        "id": "CF3VZmp4b8EL"
      },
      "source": [
        "Realizado uma filtragem mais detalhada para a análise, percebendo que 2021, 2022 e 2023 foram os anos com maiores números de aproximações até o momento."
      ]
    },
    {
      "cell_type": "code",
      "execution_count": null,
      "metadata": {
        "application/vnd.databricks.v1+cell": {
          "cellMetadata": {
            "byteLimit": 2048000,
            "rowLimit": 10000
          },
          "inputWidgets": {},
          "nuid": "45b3189e-afcf-4c04-90bc-b43e4da42a24",
          "showTitle": false,
          "tableResultSettingsMap": {},
          "title": ""
        },
        "id": "LbTi7YIOb8EL"
      },
      "outputs": [],
      "source": [
        "df['ano'] = df['Hora_Aprox'].dt.year\n",
        "df_filtrado = df[(df['ano'] >= 1980) & (df['ano'] <= 2024)]\n",
        "\n",
        "\n",
        "aprox_por_ano = df_filtrado.groupby('ano').size().reset_index(name='Numero_Aproximacoes')\n",
        "\n",
        "\n",
        "fig = px.bar(aprox_por_ano, x='ano', y='Numero_Aproximacoes',\n",
        "             title='Número de Aproximações por Ano (até 2024)',\n",
        "             labels={'ano': 'Ano', 'Numero_Aproximacoes': 'Número de Aproximações'})\n",
        "\n",
        "fig.show()\n"
      ]
    },
    {
      "cell_type": "markdown",
      "metadata": {
        "application/vnd.databricks.v1+cell": {
          "cellMetadata": {},
          "inputWidgets": {},
          "nuid": "d1ec7e20-e169-4fd4-804a-02346e8a23d9",
          "showTitle": false,
          "tableResultSettingsMap": {},
          "title": ""
        },
        "id": "ggbUpFQ-b8EL"
      },
      "source": [
        "Estou importando uma função da pasta 'plots_utils' onde ela irá adicionar rótulos dentro das barras de um gráfico de barras, para detalhar ainda mais os dados."
      ]
    },
    {
      "cell_type": "code",
      "execution_count": null,
      "metadata": {
        "application/vnd.databricks.v1+cell": {
          "cellMetadata": {
            "byteLimit": 2048000,
            "rowLimit": 10000
          },
          "inputWidgets": {},
          "nuid": "7d301878-9186-4d2d-9faf-320b9fe9ff92",
          "showTitle": false,
          "tableResultSettingsMap": {},
          "title": ""
        },
        "id": "8gBCZovOb8EM"
      },
      "outputs": [],
      "source": [
        "from plots_utils import add_labels"
      ]
    },
    {
      "cell_type": "markdown",
      "metadata": {
        "application/vnd.databricks.v1+cell": {
          "cellMetadata": {},
          "inputWidgets": {},
          "nuid": "0b103e23-5ee4-4bb0-868e-e203e9c765d5",
          "showTitle": false,
          "tableResultSettingsMap": {},
          "title": ""
        },
        "id": "cjWwi9ilb8EM"
      },
      "source": [
        "## Número de aproximações (por magnitude e por distância)"
      ]
    },
    {
      "cell_type": "markdown",
      "metadata": {
        "application/vnd.databricks.v1+cell": {
          "cellMetadata": {},
          "inputWidgets": {},
          "nuid": "527acf37-1ddb-4bb9-858d-1fc53891b428",
          "showTitle": false,
          "tableResultSettingsMap": {},
          "title": ""
        },
        "id": "wPNUMX2Ub8EM"
      },
      "source": [
        "Após isso, analisamos diferentes insights relacionados ao período de maior número de aproximações,de 2017 a 2024.\n",
        "Dessa forma categorizamos a quantidade de aproximações relacionadas a magnitude de cada asteróide e percebe-se uma quantidade maior de asteróides com a magnitude 'Moderada', ou seja, objetos com sua luminosidade moderada.\n",
        "\n",
        "Abaixo uma exemplificação de como funciona a classificação de luminosidade."
      ]
    },
    {
      "cell_type": "markdown",
      "metadata": {
        "application/vnd.databricks.v1+cell": {
          "cellMetadata": {},
          "inputWidgets": {},
          "nuid": "31dc9adb-7628-4601-a41c-9831ae395353",
          "showTitle": false,
          "tableResultSettingsMap": {},
          "title": ""
        },
        "id": "Dwm4bnv8b8EM"
      },
      "source": [
        "![Escala de Magnitude](magnitude.png)"
      ]
    },
    {
      "cell_type": "code",
      "execution_count": null,
      "metadata": {
        "application/vnd.databricks.v1+cell": {
          "cellMetadata": {
            "byteLimit": 2048000,
            "rowLimit": 10000
          },
          "inputWidgets": {},
          "nuid": "b5142da5-e0a4-4325-a52f-3731dab4f0ec",
          "showTitle": false,
          "tableResultSettingsMap": {},
          "title": ""
        },
        "id": "t0ZvMDIzb8EM"
      },
      "outputs": [],
      "source": [
        "# Feito categorização da magnitude e classificado a luminosidade do asteróide\n",
        "bins_mag = [0, 10, 20, 30, 40, 50]\n",
        "labels_mag = ['Muito Brilhante', 'Brilhante', 'Moderado', 'Escuro', 'Muito Escuro']\n",
        "df['Categoria_Magnitude'] = pd.cut(df['Magnitude_Absolt'], bins=bins_mag, labels=labels_mag)\n",
        "\n",
        "# Remover as categorias 'Muito Brilhante' e 'Muito Escuro'\n",
        "df_filtrado = df[(df['Categoria_Magnitude'] != 'Muito Brilhante') & (df['Categoria_Magnitude'] != 'Muito Escuro')]\n",
        "\n",
        "# Filtrar os dados para incluir apenas os anos entre 2017 e 2024\n",
        "df_filtrado = df_filtrado[(df_filtrado['ano'] >= 2017) & (df_filtrado['ano'] <= 2024)]\n",
        "\n",
        "# Contar o número de aproximações por categoria de magnitude\n",
        "aprox_por_categoria_mag = df_filtrado.groupby(['ano', 'Categoria_Magnitude']).size().unstack(fill_value=0)\n",
        "\n",
        "# Ajustar os labels de magnitude para refletir as categorias restantes\n",
        "labels_mag_filtrado = ['Brilhante', 'Moderado', 'Escuro']\n",
        "\n",
        "# Criar os subplots, um para cada categoria de magnitude (agora sem 'Muito Brilhante' e 'Muito Escuro')\n",
        "fig = make_subplots(rows=3, cols=1, shared_xaxes=True, vertical_spacing=0.05,\n",
        "                    subplot_titles=labels_mag_filtrado)\n",
        "\n",
        "# Adicionar as barras para cada categoria de magnitude nos subplots\n",
        "for i, label in enumerate(labels_mag_filtrado):\n",
        "    categoria_data = aprox_por_categoria_mag[label]  # Dados para a categoria específica\n",
        "    fig.add_trace(\n",
        "        go.Bar(x=categoria_data.index, y=categoria_data.values, name=label),\n",
        "        row=i+1, col=1\n",
        "    )\n",
        "\n",
        "# Atualizar o layout para o gráfico\n",
        "fig.update_layout(\n",
        "    height=900,  # Altura total para os subgráficos\n",
        "    title_text=\"Número de Aproximações por Categoria de Magnitude (2017-2024)\",\n",
        "    showlegend=True,\n",
        "    xaxis_title=\"Ano\",\n",
        "    yaxis_title=\"Número de Aproximações\"\n",
        ")\n",
        "\n",
        "# Ajustar as configurações dos eixos X para mostrar os anos de forma legível abaixo de cada gráfico\n",
        "fig.update_xaxes(tickmode='array', tickvals=aprox_por_categoria_mag.index, ticktext=[str(year) for year in aprox_por_categoria_mag.index])\n",
        "\n",
        "# Adicionar os valores numéricos nas barras\n",
        "for i, label in enumerate(labels_mag_filtrado):\n",
        "    categoria_data = aprox_por_categoria_mag[label]\n",
        "    for x, y in zip(categoria_data.index, categoria_data.values):\n",
        "        fig.add_annotation(\n",
        "            x=x, y=y,\n",
        "            text=str(y),\n",
        "            showarrow=False,\n",
        "            font=dict(size=10),\n",
        "            align=\"center\",\n",
        "            row=i+1, col=1\n",
        "        )\n",
        "\n",
        "# Mostrar o gráfico\n",
        "fig.show()\n"
      ]
    },
    {
      "cell_type": "markdown",
      "metadata": {
        "application/vnd.databricks.v1+cell": {
          "cellMetadata": {},
          "inputWidgets": {},
          "nuid": "26d9f03b-820a-4394-bf3f-e5a21b1a633b",
          "showTitle": false,
          "tableResultSettingsMap": {},
          "title": ""
        },
        "id": "nArEa2Q_b8EN"
      },
      "source": [
        "Também foi relacionada o número de aproximações nesse período com as distâncias de aproximação em relação a Terra. Observa-se que a quantidade de aproximações de asteróides que passam 'Próximo' e 'Moderado' em relação a Terra não são distantes.\n",
        "\n",
        "Abaixo um exemplo de como funciona a classificação de distância, no caso do nosso projeto a referência é o planeta Terra, mas quanto mais próximo a distância está de 0 significa que mais próximo está o asteróide em relação a Terra."
      ]
    },
    {
      "cell_type": "markdown",
      "metadata": {
        "application/vnd.databricks.v1+cell": {
          "cellMetadata": {},
          "inputWidgets": {},
          "nuid": "d2bca54f-1a7f-41ca-be59-2a4840b750c3",
          "showTitle": false,
          "tableResultSettingsMap": {},
          "title": ""
        },
        "id": "5Rbv2iGQb8EN"
      },
      "source": [
        "![Escala de Magnitude](unidade-astronomica.png)"
      ]
    },
    {
      "cell_type": "code",
      "execution_count": null,
      "metadata": {
        "application/vnd.databricks.v1+cell": {
          "cellMetadata": {
            "byteLimit": 2048000,
            "rowLimit": 10000
          },
          "inputWidgets": {},
          "nuid": "a9866a03-9350-4ebe-a9f8-168ef141601f",
          "showTitle": false,
          "tableResultSettingsMap": {},
          "title": ""
        },
        "id": "JCvMG_AUb8EN"
      },
      "outputs": [],
      "source": [
        "# Ajustar as categorias para distâncias em UA, classificando sua aproximação\n",
        "bins = [0, 0.02, 0.05]  # Ajustando os bins para incluir apenas \"Próximo\" e \"Moderado\"\n",
        "labels = ['Próximo', 'Moderado']  # Apenas as categorias \"Próximo\" e \"Moderado\"\n",
        "df['Categoria_Distancia'] = pd.cut(df['Distancia'], bins=bins, labels=labels)\n",
        "\n",
        "# Realizada filtragem dos dados para incluir apenas os anos entre 2017 e 2024\n",
        "df_filtrado = df[(df['ano'] >= 2017) & (df['ano'] <= 2024)]\n",
        "\n",
        "# Contar o número de aproximações por categoria de distância\n",
        "aprox_por_categoria = df_filtrado.groupby(['ano', 'Categoria_Distancia']).size().unstack(fill_value=0)\n",
        "\n",
        "# Criar subplots\n",
        "fig = make_subplots(rows=1, cols=2, subplot_titles=labels,\n",
        "                    shared_xaxes=True, shared_yaxes=True,\n",
        "                    vertical_spacing=0.1, horizontal_spacing=0.1)\n",
        "\n",
        "# Adicionar gráficos para cada categoria de distância\n",
        "for i, categoria in enumerate(labels):\n",
        "    row = 1\n",
        "    col = i + 1\n",
        "\n",
        "    trace = go.Bar(\n",
        "        x=aprox_por_categoria.index,\n",
        "        y=aprox_por_categoria[categoria],\n",
        "        name=categoria,\n",
        "        marker=dict(color='rgba(0, 0, 255, 0.7)' if categoria == 'Próximo' else\n",
        "                    'rgba(0, 255, 0, 0.7)'),\n",
        "        text=aprox_por_categoria[categoria],\n",
        "        textposition='inside'\n",
        "    )\n",
        "\n",
        "    fig.add_trace(trace, row=row, col=col)\n",
        "\n",
        "# Atualizar layout do gráfico\n",
        "fig.update_layout(\n",
        "    title='Número de Aproximações por Categoria de Distância (2017-2024)',\n",
        "    xaxis_title='Ano',\n",
        "    yaxis_title='Número de Aproximações',\n",
        "    barmode='stack',\n",
        "    showlegend=False,\n",
        "    height=700,\n",
        "    width=900\n",
        ")\n",
        "\n",
        "# Exibir gráfico\n",
        "fig.show()\n"
      ]
    },
    {
      "cell_type": "markdown",
      "metadata": {
        "application/vnd.databricks.v1+cell": {
          "cellMetadata": {},
          "inputWidgets": {},
          "nuid": "dceb29ae-ffca-4c3d-a5aa-2078486b96e2",
          "showTitle": false,
          "tableResultSettingsMap": {},
          "title": ""
        },
        "jupyter": {
          "outputs_hidden": true
        },
        "id": "c1xuqzx0b8EO"
      },
      "source": [
        "## Número de registros por cometa"
      ]
    },
    {
      "cell_type": "markdown",
      "metadata": {
        "application/vnd.databricks.v1+cell": {
          "cellMetadata": {},
          "inputWidgets": {},
          "nuid": "191ba32b-9021-4edd-afb9-e74684623f41",
          "showTitle": false,
          "tableResultSettingsMap": {},
          "title": ""
        },
        "id": "qZkBSBHNb8EO"
      },
      "source": [
        "Irei agrupar os dados pelo ID_Cometa e contar o número de registros já feito, após isso ordenar os registros em ordem decrescente, podendo visualizar os 5 cometas mais registrados pelo monitoramento de aproximações."
      ]
    },
    {
      "cell_type": "code",
      "execution_count": null,
      "metadata": {
        "application/vnd.databricks.v1+cell": {
          "cellMetadata": {
            "byteLimit": 2048000,
            "rowLimit": 10000
          },
          "inputWidgets": {},
          "nuid": "1e167948-3637-4670-b6c1-1eaf77c50a1e",
          "showTitle": false,
          "tableResultSettingsMap": {},
          "title": ""
        },
        "id": "1NQL7pxxb8EO"
      },
      "outputs": [],
      "source": [
        "cometas_registros = df.groupby('ID_Cometa').size().reset_index(name='Contagem')\n",
        "\n",
        "cometas_registros = cometas_registros.sort_values(by='Contagem', ascending=False)\n",
        "display(cometas_registros.head())"
      ]
    },
    {
      "cell_type": "markdown",
      "metadata": {
        "application/vnd.databricks.v1+cell": {
          "cellMetadata": {},
          "inputWidgets": {},
          "nuid": "0a16bb21-d3b4-404b-8e32-294454f58794",
          "showTitle": false,
          "tableResultSettingsMap": {},
          "title": ""
        },
        "id": "RgCNP_CQb8EO"
      },
      "source": [
        "##Conclusão\n",
        "\n",
        "O estudo da aproximação de asteroides e cometas com a Terra, com base nos dados fornecidos pela NASA, revela a complexidade e a importância do monitoramento contínuo desses corpos celestes. Através da análise dos dados, foi possível observar que, embora muitos desses objetos passem a uma distância segura, existe uma variedade de fatores que determinam a frequência e a proximidade de suas passagens. A limpeza e a organização dos dados, incluindo a análise de variáveis como Distância, Velocidadee Magnitude, mostraram a presença de outliers naturais que não comprometem a qualidade da análise, mas que, ao contrário, oferecem insights valiosos sobre a dinâmica dos asteroides e cometas próximos à Terra.\n",
        "\n",
        "Além disso, a frequência de aproximações aumentou significativamente a partir dos anos 2000, o que pode estar relacionado a melhorias na tecnologia de monitoramento e à maior sensibilidade dos telescópios e satélites utilizados para registrar esses eventos. A análise por Magnitudee Distânciatambém trouxe à tona padrões interessantes, como o fato de que a maioria das aproximações ocorre com asteroides de luminosidade moderada e em distâncias que variam de moderadas a próximas.\n",
        "\n",
        "O comportamento observado nos dados também evidencia que cometas com órbitas mais curtas ou mais excêntricas tendem a ser mais registrados, dada a sua frequência de aproximações, assim como cometas que são regularmente monitorados. Este acompanhamento detalhado é essencial não só para a compreensão da dinâmica do Sistema Solar, mas também para a identificação de possíveis riscos para o planeta, possibilitando a elaboração de estratégias de defesa planetária.\n",
        "\n",
        "Em suma, a análise dos dados da NASA não só contribui para o avanço do conhecimento sobre os asteroides e cometas, mas também serve como uma ferramenta vital para a prevenção de possíveis impactos, destacando a importância da ciência e da tecnologia no monitoramento constante do céu além de gerar informações valiosas e permitir uma avaliação precisa dos riscos e comportamentos desses objetos celestes."
      ]
    }
  ],
  "metadata": {
    "application/vnd.databricks.v1+notebook": {
      "dashboards": [],
      "environmentMetadata": {
        "base_environment": "",
        "client": "1"
      },
      "language": "python",
      "notebookMetadata": {
        "pythonIndentUnit": 4
      },
      "notebookName": "nb_análise_exploratória",
      "widgets": {}
    },
    "language_info": {
      "name": "python"
    },
    "colab": {
      "provenance": [],
      "include_colab_link": true
    }
  },
  "nbformat": 4,
  "nbformat_minor": 0
}